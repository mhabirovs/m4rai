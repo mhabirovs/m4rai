{
 "cells": [
  {
   "cell_type": "markdown",
   "id": "8d07f4c1-8c49-4fd1-8237-8ef4d5835e84",
   "metadata": {
    "tags": []
   },
   "source": [
    "# Explainability of the model"
   ]
  },
  {
   "cell_type": "code",
   "execution_count": 2,
   "id": "5e3a9f1d-c9c2-4c73-991e-bb7c909dff93",
   "metadata": {},
   "outputs": [
    {
     "name": "stdout",
     "output_type": "stream",
     "text": [
      "Requirement already satisfied: ucimlrepo in c:\\users\\iulia\\anaconda3\\lib\\site-packages (0.0.3)\n"
     ]
    }
   ],
   "source": [
    "# Import necessary libraries\n",
    "from sklearn.linear_model import LinearRegression\n",
    "from sklearn.preprocessing import StandardScaler\n",
    "from sklearn.linear_model import LogisticRegression\n",
    "from sklearn.metrics import accuracy_score\n",
    "from sklearn.model_selection import train_test_split\n",
    "from sklearn.metrics import r2_score\n",
    "import matplotlib.pyplot as plt\n",
    "import pandas as pd\n",
    "import numpy as np\n",
    "import matplotlib.pyplot as plt\n",
    "import seaborn as sns\n",
    "from sklearn import datasets\n",
    "!pip install ucimlrepo\n",
    "\n",
    "from ucimlrepo import fetch_ucirepo "
   ]
  },
  {
   "cell_type": "markdown",
   "id": "ceaa4d70-47eb-422d-9d65-f40b91a587b3",
   "metadata": {},
   "source": [
    "The aim is to use these features to predict the nature of the tumor. We first load the \"Breast Cancer Wisconsin\" dataset:"
   ]
  },
  {
   "cell_type": "code",
   "execution_count": 9,
   "id": "4c258734-ada0-402b-9e00-b81f384302b4",
   "metadata": {},
   "outputs": [
    {
     "name": "stdout",
     "output_type": "stream",
     "text": [
      "     radius1  texture1  perimeter1   area1  smoothness1  compactness1  \\\n",
      "0      17.99     10.38      122.80  1001.0      0.11840       0.27760   \n",
      "1      20.57     17.77      132.90  1326.0      0.08474       0.07864   \n",
      "2      19.69     21.25      130.00  1203.0      0.10960       0.15990   \n",
      "3      11.42     20.38       77.58   386.1      0.14250       0.28390   \n",
      "4      20.29     14.34      135.10  1297.0      0.10030       0.13280   \n",
      "..       ...       ...         ...     ...          ...           ...   \n",
      "564    21.56     22.39      142.00  1479.0      0.11100       0.11590   \n",
      "565    20.13     28.25      131.20  1261.0      0.09780       0.10340   \n",
      "566    16.60     28.08      108.30   858.1      0.08455       0.10230   \n",
      "567    20.60     29.33      140.10  1265.0      0.11780       0.27700   \n",
      "568     7.76     24.54       47.92   181.0      0.05263       0.04362   \n",
      "\n",
      "     concavity1  concave_points1  symmetry1  fractal_dimension1  ...  \\\n",
      "0       0.30010          0.14710     0.2419             0.07871  ...   \n",
      "1       0.08690          0.07017     0.1812             0.05667  ...   \n",
      "2       0.19740          0.12790     0.2069             0.05999  ...   \n",
      "3       0.24140          0.10520     0.2597             0.09744  ...   \n",
      "4       0.19800          0.10430     0.1809             0.05883  ...   \n",
      "..          ...              ...        ...                 ...  ...   \n",
      "564     0.24390          0.13890     0.1726             0.05623  ...   \n",
      "565     0.14400          0.09791     0.1752             0.05533  ...   \n",
      "566     0.09251          0.05302     0.1590             0.05648  ...   \n",
      "567     0.35140          0.15200     0.2397             0.07016  ...   \n",
      "568     0.00000          0.00000     0.1587             0.05884  ...   \n",
      "\n",
      "     texture3  perimeter3   area3  smoothness3  compactness3  concavity3  \\\n",
      "0       17.33      184.60  2019.0      0.16220       0.66560      0.7119   \n",
      "1       23.41      158.80  1956.0      0.12380       0.18660      0.2416   \n",
      "2       25.53      152.50  1709.0      0.14440       0.42450      0.4504   \n",
      "3       26.50       98.87   567.7      0.20980       0.86630      0.6869   \n",
      "4       16.67      152.20  1575.0      0.13740       0.20500      0.4000   \n",
      "..        ...         ...     ...          ...           ...         ...   \n",
      "564     26.40      166.10  2027.0      0.14100       0.21130      0.4107   \n",
      "565     38.25      155.00  1731.0      0.11660       0.19220      0.3215   \n",
      "566     34.12      126.70  1124.0      0.11390       0.30940      0.3403   \n",
      "567     39.42      184.60  1821.0      0.16500       0.86810      0.9387   \n",
      "568     30.37       59.16   268.6      0.08996       0.06444      0.0000   \n",
      "\n",
      "     concave_points3  symmetry3  fractal_dimension3  Diagnosis  \n",
      "0             0.2654     0.4601             0.11890          M  \n",
      "1             0.1860     0.2750             0.08902          M  \n",
      "2             0.2430     0.3613             0.08758          M  \n",
      "3             0.2575     0.6638             0.17300          M  \n",
      "4             0.1625     0.2364             0.07678          M  \n",
      "..               ...        ...                 ...        ...  \n",
      "564           0.2216     0.2060             0.07115          M  \n",
      "565           0.1628     0.2572             0.06637          M  \n",
      "566           0.1418     0.2218             0.07820          M  \n",
      "567           0.2650     0.4087             0.12400          M  \n",
      "568           0.0000     0.2871             0.07039          B  \n",
      "\n",
      "[569 rows x 31 columns]\n"
     ]
    }
   ],
   "source": [
    "random_state = 42\n",
    "\n",
    "# fetch dataset \n",
    "breast_cancer_dt = fetch_ucirepo(id=17) \n",
    "# print(breast_cancer_dt)\n",
    "  \n",
    "# data (as pandas dataframes) \n",
    "X = breast_cancer_dt.data.features \n",
    "y = breast_cancer_dt.data.targets \n",
    "df = pd.concat([X, y], axis=1)\n",
    "print(df)\n",
    "\n",
    "# Split the data into training and testing sets\n",
    "X_train, X_test, y_train, y_test = train_test_split(X, y, test_size=0.3, random_state=random_state)\n"
   ]
  },
  {
   "cell_type": "markdown",
   "id": "72908e34-f45c-4880-8dca-64dc6b9b0a3c",
   "metadata": {},
   "source": [
    "Linear Regression is not a good fit for our dataset as the target variable is binary."
   ]
  },
  {
   "cell_type": "code",
   "execution_count": 80,
   "id": "8c433159-ff3c-49d3-b991-7a51a7f2937d",
   "metadata": {},
   "outputs": [],
   "source": [
    "# Standardizing features\n",
    "scaler = StandardScaler()\n",
    "X_train_standardized = scaler.fit_transform(X_train)\n",
    "X_test_standardized = scaler.transform(X_test)\n",
    "\n",
    "# Create and fit the Random Forest Regressor model\n",
    "# model = LinearRegression()\n",
    "# model.fit(X_train_standardized, y_train)\n",
    "\n",
    "# # Make predictions on the test set\n",
    "# y_pred = model.predict(X_test_standardized)"
   ]
  },
  {
   "cell_type": "markdown",
   "id": "dfc76aa4-d0a6-47a9-924d-406096944393",
   "metadata": {},
   "source": [
    "Logistic Regression"
   ]
  },
  {
   "cell_type": "code",
   "execution_count": 4,
   "id": "3e6da02a-96a2-4a2b-a5f1-a4a772510e47",
   "metadata": {},
   "outputs": [
    {
     "name": "stdout",
     "output_type": "stream",
     "text": [
      "    Diagnosis\n",
      "0           M\n",
      "1           M\n",
      "2           M\n",
      "3           M\n",
      "4           M\n",
      "..        ...\n",
      "564         M\n",
      "565         M\n",
      "566         M\n",
      "567         M\n",
      "568         B\n",
      "\n",
      "[569 rows x 1 columns]\n",
      "['M' 'B']\n",
      "     Diagnosis\n",
      "0            0\n",
      "1            0\n",
      "2            0\n",
      "3            0\n",
      "4            0\n",
      "..         ...\n",
      "564          0\n",
      "565          0\n",
      "566          0\n",
      "567          0\n",
      "568          1\n",
      "\n",
      "[569 rows x 1 columns]\n"
     ]
    },
    {
     "name": "stderr",
     "output_type": "stream",
     "text": [
      "C:\\Users\\iulia\\AppData\\Local\\Temp\\ipykernel_23360\\452502736.py:12: SettingWithCopyWarning: \n",
      "A value is trying to be set on a copy of a slice from a DataFrame.\n",
      "Try using .loc[row_indexer,col_indexer] = value instead\n",
      "\n",
      "See the caveats in the documentation: https://pandas.pydata.org/pandas-docs/stable/user_guide/indexing.html#returning-a-view-versus-a-copy\n",
      "  y['Diagnosis'] = y['Diagnosis'].map({'M': 0, 'B': 1})\n",
      "C:\\Users\\iulia\\anaconda3\\lib\\site-packages\\sklearn\\utils\\validation.py:1183: DataConversionWarning: A column-vector y was passed when a 1d array was expected. Please change the shape of y to (n_samples, ), for example using ravel().\n",
      "  y = column_or_1d(y, warn=True)\n"
     ]
    }
   ],
   "source": [
    "# Standardizing features\n",
    "# Standardizing features is a best practice when using linear models, as it ensures that each feature contributes equally \n",
    "# to the model's predictions and prevents any feature from dominating the others due to its scale.\n",
    "scaler = StandardScaler()\n",
    "X_train_standardized = scaler.fit_transform(X_train)\n",
    "X_test_standardized = scaler.transform(X_test)\n",
    "\n",
    "print(y)\n",
    "print(y['Diagnosis'].unique())\n",
    "\n",
    "# Replace 'B' with 0 and 'M' with 1 in the 'Diagnosis' column\n",
    "y['Diagnosis'] = y['Diagnosis'].map({'M': 0, 'B': 1})\n",
    "\n",
    "print(y)\n",
    "\n",
    "# Create and fit the Random Forest Regressor model\n",
    "model = LogisticRegression()\n",
    "model.fit(X_train_standardized, y_train)\n",
    "\n",
    "# Make predictions on the test set\n",
    "y_pred = model.predict(X_test_standardized)"
   ]
  },
  {
   "cell_type": "markdown",
   "id": "c0f326ba-c097-495f-a461-8c9b42fbab2e",
   "metadata": {},
   "source": [
    "Evaluating the performance of the classifier is crucial to understand how well it fits the data. We use accuracy to evaluate the generalization performance of the classifier"
   ]
  },
  {
   "cell_type": "code",
   "execution_count": 6,
   "id": "a8013bf0-718a-4df6-b4f9-98a4d95ad494",
   "metadata": {},
   "outputs": [
    {
     "name": "stdout",
     "output_type": "stream",
     "text": [
      "Classifier Accuracy: 0.9824561403508771\n"
     ]
    }
   ],
   "source": [
    "# Calculating the accuracy\n",
    "acc = accuracy_score(y_test, y_pred)\n",
    "\n",
    "print(f'Classifier Accuracy: {acc}')"
   ]
  },
  {
   "cell_type": "markdown",
   "id": "e632e90a-f842-42cc-adfc-d4fc2d0498d3",
   "metadata": {},
   "source": [
    "computing the odds ration for each coefficient $\\beta_j$ using the following formula: $odds_j = e^{\\beta_j}$"
   ]
  },
  {
   "cell_type": "code",
   "execution_count": 7,
   "id": "ad30a576-08b2-431c-a88a-1d214e470035",
   "metadata": {},
   "outputs": [
    {
     "name": "stdout",
     "output_type": "stream",
     "text": [
      "[[ 0.36151014  0.36590894  0.31610122  0.41880063  0.18212827 -0.62679803\n",
      "   0.74987144  1.11026184 -0.21782944 -0.13788028  1.24254311 -0.15541981\n",
      "   0.60518674  0.87138493  0.17738092 -0.59728543  0.08110875  0.47494075\n",
      "  -0.50330967 -0.69838981  0.8138174   1.2879328   0.53402497  0.78196751\n",
      "   0.50440415 -0.11569862  0.97693569  0.79835894  1.19944887  0.10073636]]\n",
      "['radius1', 'texture1', 'perimeter1', 'area1', 'smoothness1', 'compactness1', 'concavity1', 'concave_points1', 'symmetry1', 'fractal_dimension1', 'radius2', 'texture2', 'perimeter2', 'area2', 'smoothness2', 'compactness2', 'concavity2', 'concave_points2', 'symmetry2', 'fractal_dimension2', 'radius3', 'texture3', 'perimeter3', 'area3', 'smoothness3', 'compactness3', 'concavity3', 'concave_points3', 'symmetry3', 'fractal_dimension3']\n"
     ]
    }
   ],
   "source": [
    "# Retrieve the coefficients and feature names\n",
    "coefficients = model.coef_\n",
    "print(coefficients)\n",
    "feature_names = breast_cancer_dt['data']['headers'].to_list()\n",
    "feature_names.remove('ID')\n",
    "feature_names.remove('Diagnosis')\n",
    "print(feature_names)\n",
    "\n",
    "# Computing odds ratio\n",
    "feature_importance = np.exp(coefficients).squeeze()\n"
   ]
  },
  {
   "cell_type": "code",
   "execution_count": null,
   "id": "194f2569-a739-4e4a-a6b7-616e83c54f8c",
   "metadata": {},
   "outputs": [],
   "source": []
  },
  {
   "cell_type": "code",
   "execution_count": 8,
   "id": "983daf16-6e37-44bc-ad51-d288150efbaa",
   "metadata": {},
   "outputs": [
    {
     "data": {
      "image/png": "[encoded data removed]",
      "text/plain": [
       "<Figure size 864x432 with 1 Axes>"
      ]
     },
     "metadata": {
      "needs_background": "light"
     },
     "output_type": "display_data"
    }
   ],
   "source": [
    "# Create a DataFrame to store the coefficients with their corresponding feature names\n",
    "coeff_df = pd.DataFrame({'Feature': feature_names, 'OR': feature_importance})\n",
    "\n",
    "# Sort the DataFrame by coefficient magnitude in descending order\n",
    "coeff_df = coeff_df.reindex(coeff_df['OR'].abs().sort_values(ascending=False).index)\n",
    "\n",
    "# Create a bar plot to visualize coefficient magnitudes\n",
    "plt.figure(figsize=(12, 6))\n",
    "plt.subplot(1, 1, 1)\n",
    "plt.bar(coeff_df['Feature'], coeff_df['OR'])\n",
    "plt.xticks(rotation=45, ha='right')\n",
    "plt.xlabel('Feature')\n",
    "plt.ylabel('Odds Ratios')\n",
    "plt.title('Feature Importance in Logistic Regression')\n",
    "plt.tight_layout()\n",
    "plt.show()"
   ]
  },
  {
   "cell_type": "markdown",
   "id": "0d9ed3a2-1484-4eaf-b518-fb0b34d3097a",
   "metadata": {},
   "source": [
    "Calculating Feature Importance using the bagging approach for robustness"
   ]
  },
  {
   "cell_type": "code",
   "execution_count": 109,
   "id": "3a1a5af9-d05e-4809-bedb-87ff4f5eb265",
   "metadata": {},
   "outputs": [
    {
     "name": "stderr",
     "output_type": "stream",
     "text": [
      "C:\\Users\\iulia\\anaconda3\\lib\\site-packages\\sklearn\\ensemble\\_bagging.py:802: DataConversionWarning: A column-vector y was passed when a 1d array was expected. Please change the shape of y to (n_samples, ), for example using ravel().\n",
      "  y = column_or_1d(y, warn=True)\n",
      "C:\\Users\\iulia\\anaconda3\\lib\\site-packages\\sklearn\\ensemble\\_base.py:156: FutureWarning: `base_estimator` was renamed to `estimator` in version 1.2 and will be removed in 1.4.\n",
      "  warnings.warn(\n",
      "C:\\Users\\iulia\\anaconda3\\lib\\site-packages\\sklearn\\linear_model\\_logistic.py:460: ConvergenceWarning: lbfgs failed to converge (status=1):\n",
      "STOP: TOTAL NO. of ITERATIONS REACHED LIMIT.\n",
      "\n",
      "Increase the number of iterations (max_iter) or scale the data as shown in:\n",
      "    https://scikit-learn.org/stable/modules/preprocessing.html\n",
      "Please also refer to the documentation for alternative solver options:\n",
      "    https://scikit-learn.org/stable/modules/linear_model.html#logistic-regression\n",
      "  n_iter_i = _check_optimize_result(\n",
      "C:\\Users\\iulia\\anaconda3\\lib\\site-packages\\sklearn\\linear_model\\_logistic.py:460: ConvergenceWarning: lbfgs failed to converge (status=1):\n",
      "STOP: TOTAL NO. of ITERATIONS REACHED LIMIT.\n",
      "\n",
      "Increase the number of iterations (max_iter) or scale the data as shown in:\n",
      "    https://scikit-learn.org/stable/modules/preprocessing.html\n",
      "Please also refer to the documentation for alternative solver options:\n",
      "    https://scikit-learn.org/stable/modules/linear_model.html#logistic-regression\n",
      "  n_iter_i = _check_optimize_result(\n",
      "C:\\Users\\iulia\\anaconda3\\lib\\site-packages\\sklearn\\linear_model\\_logistic.py:460: ConvergenceWarning: lbfgs failed to converge (status=1):\n",
      "STOP: TOTAL NO. of ITERATIONS REACHED LIMIT.\n",
      "\n",
      "Increase the number of iterations (max_iter) or scale the data as shown in:\n",
      "    https://scikit-learn.org/stable/modules/preprocessing.html\n",
      "Please also refer to the documentation for alternative solver options:\n",
      "    https://scikit-learn.org/stable/modules/linear_model.html#logistic-regression\n",
      "  n_iter_i = _check_optimize_result(\n",
      "C:\\Users\\iulia\\anaconda3\\lib\\site-packages\\sklearn\\linear_model\\_logistic.py:460: ConvergenceWarning: lbfgs failed to converge (status=1):\n",
      "STOP: TOTAL NO. of ITERATIONS REACHED LIMIT.\n",
      "\n",
      "Increase the number of iterations (max_iter) or scale the data as shown in:\n",
      "    https://scikit-learn.org/stable/modules/preprocessing.html\n",
      "Please also refer to the documentation for alternative solver options:\n",
      "    https://scikit-learn.org/stable/modules/linear_model.html#logistic-regression\n",
      "  n_iter_i = _check_optimize_result(\n",
      "C:\\Users\\iulia\\anaconda3\\lib\\site-packages\\sklearn\\linear_model\\_logistic.py:460: ConvergenceWarning: lbfgs failed to converge (status=1):\n",
      "STOP: TOTAL NO. of ITERATIONS REACHED LIMIT.\n",
      "\n",
      "Increase the number of iterations (max_iter) or scale the data as shown in:\n",
      "    https://scikit-learn.org/stable/modules/preprocessing.html\n",
      "Please also refer to the documentation for alternative solver options:\n",
      "    https://scikit-learn.org/stable/modules/linear_model.html#logistic-regression\n",
      "  n_iter_i = _check_optimize_result(\n",
      "C:\\Users\\iulia\\anaconda3\\lib\\site-packages\\sklearn\\linear_model\\_logistic.py:460: ConvergenceWarning: lbfgs failed to converge (status=1):\n",
      "STOP: TOTAL NO. of ITERATIONS REACHED LIMIT.\n",
      "\n",
      "Increase the number of iterations (max_iter) or scale the data as shown in:\n",
      "    https://scikit-learn.org/stable/modules/preprocessing.html\n",
      "Please also refer to the documentation for alternative solver options:\n",
      "    https://scikit-learn.org/stable/modules/linear_model.html#logistic-regression\n",
      "  n_iter_i = _check_optimize_result(\n",
      "C:\\Users\\iulia\\anaconda3\\lib\\site-packages\\sklearn\\linear_model\\_logistic.py:460: ConvergenceWarning: lbfgs failed to converge (status=1):\n",
      "STOP: TOTAL NO. of ITERATIONS REACHED LIMIT.\n",
      "\n",
      "Increase the number of iterations (max_iter) or scale the data as shown in:\n",
      "    https://scikit-learn.org/stable/modules/preprocessing.html\n",
      "Please also refer to the documentation for alternative solver options:\n",
      "    https://scikit-learn.org/stable/modules/linear_model.html#logistic-regression\n",
      "  n_iter_i = _check_optimize_result(\n",
      "C:\\Users\\iulia\\anaconda3\\lib\\site-packages\\sklearn\\linear_model\\_logistic.py:460: ConvergenceWarning: lbfgs failed to converge (status=1):\n",
      "STOP: TOTAL NO. of ITERATIONS REACHED LIMIT.\n",
      "\n",
      "Increase the number of iterations (max_iter) or scale the data as shown in:\n",
      "    https://scikit-learn.org/stable/modules/preprocessing.html\n",
      "Please also refer to the documentation for alternative solver options:\n",
      "    https://scikit-learn.org/stable/modules/linear_model.html#logistic-regression\n",
      "  n_iter_i = _check_optimize_result(\n",
      "C:\\Users\\iulia\\anaconda3\\lib\\site-packages\\sklearn\\linear_model\\_logistic.py:460: ConvergenceWarning: lbfgs failed to converge (status=1):\n",
      "STOP: TOTAL NO. of ITERATIONS REACHED LIMIT.\n",
      "\n",
      "Increase the number of iterations (max_iter) or scale the data as shown in:\n",
      "    https://scikit-learn.org/stable/modules/preprocessing.html\n",
      "Please also refer to the documentation for alternative solver options:\n",
      "    https://scikit-learn.org/stable/modules/linear_model.html#logistic-regression\n",
      "  n_iter_i = _check_optimize_result(\n",
      "C:\\Users\\iulia\\anaconda3\\lib\\site-packages\\sklearn\\linear_model\\_logistic.py:460: ConvergenceWarning: lbfgs failed to converge (status=1):\n",
      "STOP: TOTAL NO. of ITERATIONS REACHED LIMIT.\n",
      "\n",
      "Increase the number of iterations (max_iter) or scale the data as shown in:\n",
      "    https://scikit-learn.org/stable/modules/preprocessing.html\n",
      "Please also refer to the documentation for alternative solver options:\n",
      "    https://scikit-learn.org/stable/modules/linear_model.html#logistic-regression\n",
      "  n_iter_i = _check_optimize_result(\n"
     ]
    },
    {
     "data": {
      "image/png": "[encoded data removed]",
      "text/plain": [
       "<Figure size 864x432 with 1 Axes>"
      ]
     },
     "metadata": {
      "needs_background": "light"
     },
     "output_type": "display_data"
    }
   ],
   "source": [
    "from sklearn.ensemble import BaggingClassifier\n",
    "\n",
    "# Create a BaggingClassifier with Logistic Regression as the base estimator\n",
    "bagging_model = BaggingClassifier(base_estimator=model, n_estimators=10, random_state=42)\n",
    "\n",
    "# Train the BaggingClassifier on the training data\n",
    "bagging_model.fit(X_train, y_train)\n",
    "\n",
    "# Access the individual Logistic Regression models within the BaggingClassifier\n",
    "individual_models = bagging_model.estimators_\n",
    "\n",
    "# Calculate feature importance based on individual models\n",
    "feature_importance = np.mean([model.coef_ for model in individual_models], axis=0)\n",
    "\n",
    "# Assuming you have feature names available, you can create a DataFrame\n",
    "coeff_df = pd.DataFrame({'Feature': feature_names, 'Mean_Coefficient': feature_importance[0]})\n",
    "\n",
    "# Sort the DataFrame by coefficient magnitude in descending order\n",
    "coeff_df = coeff_df.reindex(coeff_df['Mean_Coefficient'].abs().sort_values(ascending=False).index)\n",
    "\n",
    "# Create a bar plot to visualize feature importance\n",
    "import matplotlib.pyplot as plt\n",
    "plt.figure(figsize=(12, 6))\n",
    "plt.bar(coeff_df['Feature'], coeff_df['Mean_Coefficient'])\n",
    "plt.xticks(rotation=45, ha='right')\n",
    "plt.xlabel('Feature')\n",
    "plt.ylabel('Mean Coefficient')\n",
    "plt.title('Feature Importance in Logistic Regression with Bagging')\n",
    "plt.tight_layout()\n",
    "plt.show()\n"
   ]
  }
 ],
 "metadata": {
  "kernelspec": {
   "display_name": "Python 3 (ipykernel)",
   "language": "python",
   "name": "python3"
  },
  "language_info": {
   "codemirror_mode": {
    "name": "ipython",
    "version": 3
   },
   "file_extension": ".py",
   "mimetype": "text/x-python",
   "name": "python",
   "nbconvert_exporter": "python",
   "pygments_lexer": "ipython3",
   "version": "3.9.12"
  }
 },
 "nbformat": 4,
 "nbformat_minor": 5
}
